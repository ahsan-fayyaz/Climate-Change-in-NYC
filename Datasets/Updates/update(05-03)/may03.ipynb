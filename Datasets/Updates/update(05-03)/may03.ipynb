{
 "cells": [
  {
   "cell_type": "markdown",
   "metadata": {},
   "source": [
    "# CSC-217 Project - AHSAN FAYYAZ"
   ]
  },
  {
   "cell_type": "markdown",
   "metadata": {},
   "source": [
    "## Project Theme: CLIMATE CHANGE in NYC! Is it real?"
   ]
  },
  {
   "cell_type": "markdown",
   "metadata": {},
   "source": [
    "### Purpose:\n",
    "We all have somewhere at some point heard about __climate change__ as the next big threat to our planet & that our Earth's temperatures have risen over past __100-150 years__, and will continue to do so if we do not take any prompt action.\n",
    "This is happening due to human activity such as heavy emissions of __CarbonDioxide__ and other __greenhouse gases__ into the atmosphere. Sources of C02 are combustion of fuel for cars, industries that depend on coal, electric companies, and etc.\n",
    "\n",
    "However, to this day, many people (even influential) around the world have shown skepticism towards Global warming.\n",
    "\n",
    "For my analysis, I will collect various data sets for __average temperatures__ and __average snow fall__ for the New York City over past 100-150 years. Moreover, I have also used datasets of __C02 level__ in the atmosphere for past hundreds of years (my focus will be on the period after 1850 i.e after industrial revolution).\n",
    "\n",
    "With my data, I will be able to draw valid conclusions to common questions like,\n",
    "\n",
    " > - \"Whether C02 levels have increased in atmosphere since 1800s? If yes, then how much?\"\n",
    " > - \"Whether temperatures of NYC in summers have increased since 1850s?\"\n",
    " > - \"Whether snowfall in NYC during winters, has become more, or less?\"\n",
    " > - \"Is there a correlation between C02 levels, and average yearly temperatures?\"\n",
    " > - \"Do we actually see a relationship between C02 emissions, and extreme weather conditions?\"\n",
    " \n",
    " Also there will be answer to some more precise relationships.\n"
   ]
  },
  {
   "cell_type": "markdown",
   "metadata": {},
   "source": [
    "#### Next cell imports all the libraries from python that will be used to pull, extract, clean and visualize my data as I tell the story"
   ]
  },
  {
   "cell_type": "code",
   "execution_count": 1,
   "metadata": {},
   "outputs": [],
   "source": [
    "import pandas as pd\n",
    "import numpy as np\n",
    "import seaborn as sns\n",
    "import scipy.stats as stats\n",
    "import matplotlib.pyplot as plt\n",
    "%matplotlib inline\n",
    "import math"
   ]
  },
  {
   "cell_type": "markdown",
   "metadata": {},
   "source": [
    "\n",
    "### Let's begin exploring the data..\n"
   ]
  },
  {
   "cell_type": "markdown",
   "metadata": {},
   "source": [
    "Dataset #1: __Temperatures(mean) in the New York City__\n",
    "\n",
    "- This the dataset for average temperatures of New York City from year 1869 - 2017"
   ]
  },
  {
   "cell_type": "code",
   "execution_count": 12,
   "metadata": {},
   "outputs": [
    {
     "data": {
      "text/html": [
       "<div>\n",
       "<style scoped>\n",
       "    .dataframe tbody tr th:only-of-type {\n",
       "        vertical-align: middle;\n",
       "    }\n",
       "\n",
       "    .dataframe tbody tr th {\n",
       "        vertical-align: top;\n",
       "    }\n",
       "\n",
       "    .dataframe thead th {\n",
       "        text-align: right;\n",
       "    }\n",
       "</style>\n",
       "<table border=\"1\" class=\"dataframe\">\n",
       "  <thead>\n",
       "    <tr style=\"text-align: right;\">\n",
       "      <th></th>\n",
       "      <th>YEAR</th>\n",
       "      <th>JAN</th>\n",
       "      <th>FEB</th>\n",
       "      <th>MAR</th>\n",
       "      <th>APR</th>\n",
       "      <th>MAY</th>\n",
       "      <th>JUN</th>\n",
       "      <th>JUL</th>\n",
       "      <th>AUG</th>\n",
       "      <th>SEP</th>\n",
       "      <th>OCT</th>\n",
       "      <th>NOV</th>\n",
       "      <th>DEC</th>\n",
       "      <th>ANNUAL</th>\n",
       "    </tr>\n",
       "  </thead>\n",
       "  <tbody>\n",
       "    <tr>\n",
       "      <th>0</th>\n",
       "      <td>1869</td>\n",
       "      <td>35.1</td>\n",
       "      <td>34.5</td>\n",
       "      <td>34.8</td>\n",
       "      <td>49.2</td>\n",
       "      <td>57.7</td>\n",
       "      <td>69.3</td>\n",
       "      <td>72.8</td>\n",
       "      <td>71.8</td>\n",
       "      <td>65.6</td>\n",
       "      <td>50.9</td>\n",
       "      <td>40.3</td>\n",
       "      <td>34.7</td>\n",
       "      <td>51.4</td>\n",
       "    </tr>\n",
       "    <tr>\n",
       "      <th>1</th>\n",
       "      <td>1870</td>\n",
       "      <td>37.5</td>\n",
       "      <td>31.3</td>\n",
       "      <td>34.1</td>\n",
       "      <td>50.7</td>\n",
       "      <td>60.9</td>\n",
       "      <td>72.9</td>\n",
       "      <td>76.6</td>\n",
       "      <td>75.3</td>\n",
       "      <td>67.6</td>\n",
       "      <td>56.7</td>\n",
       "      <td>45.5</td>\n",
       "      <td>34.1</td>\n",
       "      <td>53.6</td>\n",
       "    </tr>\n",
       "    <tr>\n",
       "      <th>2</th>\n",
       "      <td>1871</td>\n",
       "      <td>28.3</td>\n",
       "      <td>30.2</td>\n",
       "      <td>44.2</td>\n",
       "      <td>52.0</td>\n",
       "      <td>60.4</td>\n",
       "      <td>68.2</td>\n",
       "      <td>72.3</td>\n",
       "      <td>73.6</td>\n",
       "      <td>60.8</td>\n",
       "      <td>55.6</td>\n",
       "      <td>38.8</td>\n",
       "      <td>29.2</td>\n",
       "      <td>51.1</td>\n",
       "    </tr>\n",
       "    <tr>\n",
       "      <th>3</th>\n",
       "      <td>1872</td>\n",
       "      <td>28.8</td>\n",
       "      <td>29.9</td>\n",
       "      <td>30.5</td>\n",
       "      <td>49.4</td>\n",
       "      <td>61.5</td>\n",
       "      <td>71.2</td>\n",
       "      <td>77.5</td>\n",
       "      <td>75.6</td>\n",
       "      <td>66.4</td>\n",
       "      <td>53.2</td>\n",
       "      <td>41.0</td>\n",
       "      <td>26.7</td>\n",
       "      <td>51.0</td>\n",
       "    </tr>\n",
       "    <tr>\n",
       "      <th>4</th>\n",
       "      <td>1873</td>\n",
       "      <td>28.6</td>\n",
       "      <td>29.5</td>\n",
       "      <td>35.7</td>\n",
       "      <td>46.7</td>\n",
       "      <td>58.8</td>\n",
       "      <td>70.3</td>\n",
       "      <td>75.4</td>\n",
       "      <td>72.0</td>\n",
       "      <td>65.4</td>\n",
       "      <td>55.8</td>\n",
       "      <td>37.0</td>\n",
       "      <td>36.5</td>\n",
       "      <td>51.0</td>\n",
       "    </tr>\n",
       "  </tbody>\n",
       "</table>\n",
       "</div>"
      ],
      "text/plain": [
       "   YEAR   JAN   FEB   MAR   APR   MAY   JUN   JUL   AUG   SEP   OCT   NOV  \\\n",
       "0  1869  35.1  34.5  34.8  49.2  57.7  69.3  72.8  71.8  65.6  50.9  40.3   \n",
       "1  1870  37.5  31.3  34.1  50.7  60.9  72.9  76.6  75.3  67.6  56.7  45.5   \n",
       "2  1871  28.3  30.2  44.2  52.0  60.4  68.2  72.3  73.6  60.8  55.6  38.8   \n",
       "3  1872  28.8  29.9  30.5  49.4  61.5  71.2  77.5  75.6  66.4  53.2  41.0   \n",
       "4  1873  28.6  29.5  35.7  46.7  58.8  70.3  75.4  72.0  65.4  55.8  37.0   \n",
       "\n",
       "    DEC  ANNUAL  \n",
       "0  34.7    51.4  \n",
       "1  34.1    53.6  \n",
       "2  29.2    51.1  \n",
       "3  26.7    51.0  \n",
       "4  36.5    51.0  "
      ]
     },
     "execution_count": 12,
     "metadata": {},
     "output_type": "execute_result"
    }
   ],
   "source": [
    "mean_temp = pd.read_csv('/home/ahsan/Spring2019/csc217/Project/Temperature_data/Full_temp.csv',header=0)\n",
    "mean_temp.head()"
   ]
  },
  {
   "cell_type": "markdown",
   "metadata": {},
   "source": [
    " "
   ]
  },
  {
   "cell_type": "markdown",
   "metadata": {},
   "source": [
    "### Visualize this data\n",
    "\n",
    "So let's have an idea how the temperatures are spread for the month of __JULY__ in the NYC\n",
    "\n",
    "Why pick July? July is considered the hottest month\n",
    "\n",
    "Plotting the histogram for __average monthly temperatures__ for the month of __JULY__ from the period 1869 - 2017"
   ]
  },
  {
   "cell_type": "code",
   "execution_count": 18,
   "metadata": {},
   "outputs": [
    {
     "data": {
      "text/plain": [
       "Text(0.5, 0.92, 'Temperature in NYC during month of JULY from 1869-2017')"
      ]
     },
     "execution_count": 18,
     "metadata": {},
     "output_type": "execute_result"
    },
    {
     "data": {
      "image/png": "[encoded data removed]",
      "text/plain": [
       "<Figure size 720x720 with 1 Axes>"
      ]
     },
     "metadata": {
      "needs_background": "light"
     },
     "output_type": "display_data"
    }
   ],
   "source": [
    "fig = plt.figure(figsize=(10,10))\n",
    "plt.hist(mean_temp['JUL'])\n",
    "plt.xlabel(\"average JULY temperatures\")\n",
    "plt.ylabel(\"# of months\")\n",
    "fig.suptitle(\"Temperature in NYC during month of JULY from 1869-2017\", fontsize=15, y=0.92)"
   ]
  },
  {
   "cell_type": "markdown",
   "metadata": {},
   "source": [
    "### Observation:\n",
    "- The spread looks like it is symmetric\n",
    "- The guess for average temperatures would be somewhere around __77__ degrees Fahrenheit\n",
    "- The __lowest__ mean temperatures are not less than __68-70__F\n",
    "- Similarly, by looking the highest mean temperatures are approximately __80-84__ Fahren height\n",
    "\n",
    "\n",
    "However, this alone isn't enough to draw any valid conclusion. Let's do more than this"
   ]
  },
  {
   "cell_type": "markdown",
   "metadata": {},
   "source": [
    "### A better comparison\n",
    "\n",
    "Now I will divide my data set into two equal periods of 50 years each\n",
    "\n",
    "- First Period == 1869 - 1919\n",
    "- Second Period == 1967 - 2017\n",
    "\n",
    "This will help us compare the two time periods and draw valid conclusions"
   ]
  },
  {
   "cell_type": "code",
   "execution_count": 19,
   "metadata": {},
   "outputs": [
    {
     "data": {
      "text/html": [
       "<div>\n",
       "<style scoped>\n",
       "    .dataframe tbody tr th:only-of-type {\n",
       "        vertical-align: middle;\n",
       "    }\n",
       "\n",
       "    .dataframe tbody tr th {\n",
       "        vertical-align: top;\n",
       "    }\n",
       "\n",
       "    .dataframe thead th {\n",
       "        text-align: right;\n",
       "    }\n",
       "</style>\n",
       "<table border=\"1\" class=\"dataframe\">\n",
       "  <thead>\n",
       "    <tr style=\"text-align: right;\">\n",
       "      <th></th>\n",
       "      <th>YEAR</th>\n",
       "      <th>JAN</th>\n",
       "      <th>FEB</th>\n",
       "      <th>MAR</th>\n",
       "      <th>APR</th>\n",
       "      <th>MAY</th>\n",
       "      <th>JUN</th>\n",
       "      <th>JUL</th>\n",
       "      <th>AUG</th>\n",
       "      <th>SEP</th>\n",
       "      <th>OCT</th>\n",
       "      <th>NOV</th>\n",
       "      <th>DEC</th>\n",
       "      <th>ANNUAL</th>\n",
       "    </tr>\n",
       "  </thead>\n",
       "  <tbody>\n",
       "    <tr>\n",
       "      <th>0</th>\n",
       "      <td>1869</td>\n",
       "      <td>35.1</td>\n",
       "      <td>34.5</td>\n",
       "      <td>34.8</td>\n",
       "      <td>49.2</td>\n",
       "      <td>57.7</td>\n",
       "      <td>69.3</td>\n",
       "      <td>72.8</td>\n",
       "      <td>71.8</td>\n",
       "      <td>65.6</td>\n",
       "      <td>50.9</td>\n",
       "      <td>40.3</td>\n",
       "      <td>34.7</td>\n",
       "      <td>51.4</td>\n",
       "    </tr>\n",
       "    <tr>\n",
       "      <th>1</th>\n",
       "      <td>1870</td>\n",
       "      <td>37.5</td>\n",
       "      <td>31.3</td>\n",
       "      <td>34.1</td>\n",
       "      <td>50.7</td>\n",
       "      <td>60.9</td>\n",
       "      <td>72.9</td>\n",
       "      <td>76.6</td>\n",
       "      <td>75.3</td>\n",
       "      <td>67.6</td>\n",
       "      <td>56.7</td>\n",
       "      <td>45.5</td>\n",
       "      <td>34.1</td>\n",
       "      <td>53.6</td>\n",
       "    </tr>\n",
       "    <tr>\n",
       "      <th>2</th>\n",
       "      <td>1871</td>\n",
       "      <td>28.3</td>\n",
       "      <td>30.2</td>\n",
       "      <td>44.2</td>\n",
       "      <td>52.0</td>\n",
       "      <td>60.4</td>\n",
       "      <td>68.2</td>\n",
       "      <td>72.3</td>\n",
       "      <td>73.6</td>\n",
       "      <td>60.8</td>\n",
       "      <td>55.6</td>\n",
       "      <td>38.8</td>\n",
       "      <td>29.2</td>\n",
       "      <td>51.1</td>\n",
       "    </tr>\n",
       "    <tr>\n",
       "      <th>3</th>\n",
       "      <td>1872</td>\n",
       "      <td>28.8</td>\n",
       "      <td>29.9</td>\n",
       "      <td>30.5</td>\n",
       "      <td>49.4</td>\n",
       "      <td>61.5</td>\n",
       "      <td>71.2</td>\n",
       "      <td>77.5</td>\n",
       "      <td>75.6</td>\n",
       "      <td>66.4</td>\n",
       "      <td>53.2</td>\n",
       "      <td>41.0</td>\n",
       "      <td>26.7</td>\n",
       "      <td>51.0</td>\n",
       "    </tr>\n",
       "    <tr>\n",
       "      <th>4</th>\n",
       "      <td>1873</td>\n",
       "      <td>28.6</td>\n",
       "      <td>29.5</td>\n",
       "      <td>35.7</td>\n",
       "      <td>46.7</td>\n",
       "      <td>58.8</td>\n",
       "      <td>70.3</td>\n",
       "      <td>75.4</td>\n",
       "      <td>72.0</td>\n",
       "      <td>65.4</td>\n",
       "      <td>55.8</td>\n",
       "      <td>37.0</td>\n",
       "      <td>36.5</td>\n",
       "      <td>51.0</td>\n",
       "    </tr>\n",
       "  </tbody>\n",
       "</table>\n",
       "</div>"
      ],
      "text/plain": [
       "   YEAR   JAN   FEB   MAR   APR   MAY   JUN   JUL   AUG   SEP   OCT   NOV  \\\n",
       "0  1869  35.1  34.5  34.8  49.2  57.7  69.3  72.8  71.8  65.6  50.9  40.3   \n",
       "1  1870  37.5  31.3  34.1  50.7  60.9  72.9  76.6  75.3  67.6  56.7  45.5   \n",
       "2  1871  28.3  30.2  44.2  52.0  60.4  68.2  72.3  73.6  60.8  55.6  38.8   \n",
       "3  1872  28.8  29.9  30.5  49.4  61.5  71.2  77.5  75.6  66.4  53.2  41.0   \n",
       "4  1873  28.6  29.5  35.7  46.7  58.8  70.3  75.4  72.0  65.4  55.8  37.0   \n",
       "\n",
       "    DEC  ANNUAL  \n",
       "0  34.7    51.4  \n",
       "1  34.1    53.6  \n",
       "2  29.2    51.1  \n",
       "3  26.7    51.0  \n",
       "4  36.5    51.0  "
      ]
     },
     "execution_count": 19,
     "metadata": {},
     "output_type": "execute_result"
    }
   ],
   "source": [
    "first_temp_period = mean_temp[mean_temp['YEAR'] <= 1919]\n",
    "first_temp_period.head()"
   ]
  },
  {
   "cell_type": "code",
   "execution_count": 21,
   "metadata": {},
   "outputs": [
    {
     "data": {
      "text/html": [
       "<div>\n",
       "<style scoped>\n",
       "    .dataframe tbody tr th:only-of-type {\n",
       "        vertical-align: middle;\n",
       "    }\n",
       "\n",
       "    .dataframe tbody tr th {\n",
       "        vertical-align: top;\n",
       "    }\n",
       "\n",
       "    .dataframe thead th {\n",
       "        text-align: right;\n",
       "    }\n",
       "</style>\n",
       "<table border=\"1\" class=\"dataframe\">\n",
       "  <thead>\n",
       "    <tr style=\"text-align: right;\">\n",
       "      <th></th>\n",
       "      <th>YEAR</th>\n",
       "      <th>JAN</th>\n",
       "      <th>FEB</th>\n",
       "      <th>MAR</th>\n",
       "      <th>APR</th>\n",
       "      <th>MAY</th>\n",
       "      <th>JUN</th>\n",
       "      <th>JUL</th>\n",
       "      <th>AUG</th>\n",
       "      <th>SEP</th>\n",
       "      <th>OCT</th>\n",
       "      <th>NOV</th>\n",
       "      <th>DEC</th>\n",
       "      <th>ANNUAL</th>\n",
       "    </tr>\n",
       "  </thead>\n",
       "  <tbody>\n",
       "    <tr>\n",
       "      <th>98</th>\n",
       "      <td>1967</td>\n",
       "      <td>37.4</td>\n",
       "      <td>29.2</td>\n",
       "      <td>37.6</td>\n",
       "      <td>49.6</td>\n",
       "      <td>55.2</td>\n",
       "      <td>72.8</td>\n",
       "      <td>75.3</td>\n",
       "      <td>73.9</td>\n",
       "      <td>66.7</td>\n",
       "      <td>57.2</td>\n",
       "      <td>42.5</td>\n",
       "      <td>38.2</td>\n",
       "      <td>53.0</td>\n",
       "    </tr>\n",
       "    <tr>\n",
       "      <th>99</th>\n",
       "      <td>1968</td>\n",
       "      <td>26.7</td>\n",
       "      <td>28.9</td>\n",
       "      <td>43.3</td>\n",
       "      <td>55.0</td>\n",
       "      <td>59.6</td>\n",
       "      <td>69.7</td>\n",
       "      <td>77.3</td>\n",
       "      <td>76.0</td>\n",
       "      <td>70.6</td>\n",
       "      <td>60.5</td>\n",
       "      <td>46.9</td>\n",
       "      <td>34.3</td>\n",
       "      <td>54.1</td>\n",
       "    </tr>\n",
       "    <tr>\n",
       "      <th>100</th>\n",
       "      <td>1969</td>\n",
       "      <td>31.8</td>\n",
       "      <td>32.6</td>\n",
       "      <td>40.1</td>\n",
       "      <td>55.9</td>\n",
       "      <td>65.3</td>\n",
       "      <td>73.1</td>\n",
       "      <td>74.8</td>\n",
       "      <td>77.4</td>\n",
       "      <td>69.0</td>\n",
       "      <td>57.7</td>\n",
       "      <td>46.4</td>\n",
       "      <td>33.4</td>\n",
       "      <td>54.8</td>\n",
       "    </tr>\n",
       "    <tr>\n",
       "      <th>101</th>\n",
       "      <td>1970</td>\n",
       "      <td>25.1</td>\n",
       "      <td>33.0</td>\n",
       "      <td>38.7</td>\n",
       "      <td>52.1</td>\n",
       "      <td>64.0</td>\n",
       "      <td>70.9</td>\n",
       "      <td>77.1</td>\n",
       "      <td>77.6</td>\n",
       "      <td>70.8</td>\n",
       "      <td>58.9</td>\n",
       "      <td>48.5</td>\n",
       "      <td>34.4</td>\n",
       "      <td>54.3</td>\n",
       "    </tr>\n",
       "    <tr>\n",
       "      <th>102</th>\n",
       "      <td>1971</td>\n",
       "      <td>27.0</td>\n",
       "      <td>35.1</td>\n",
       "      <td>40.1</td>\n",
       "      <td>50.8</td>\n",
       "      <td>61.4</td>\n",
       "      <td>74.2</td>\n",
       "      <td>77.8</td>\n",
       "      <td>75.9</td>\n",
       "      <td>71.6</td>\n",
       "      <td>62.7</td>\n",
       "      <td>45.1</td>\n",
       "      <td>40.8</td>\n",
       "      <td>55.2</td>\n",
       "    </tr>\n",
       "  </tbody>\n",
       "</table>\n",
       "</div>"
      ],
      "text/plain": [
       "     YEAR   JAN   FEB   MAR   APR   MAY   JUN   JUL   AUG   SEP   OCT   NOV  \\\n",
       "98   1967  37.4  29.2  37.6  49.6  55.2  72.8  75.3  73.9  66.7  57.2  42.5   \n",
       "99   1968  26.7  28.9  43.3  55.0  59.6  69.7  77.3  76.0  70.6  60.5  46.9   \n",
       "100  1969  31.8  32.6  40.1  55.9  65.3  73.1  74.8  77.4  69.0  57.7  46.4   \n",
       "101  1970  25.1  33.0  38.7  52.1  64.0  70.9  77.1  77.6  70.8  58.9  48.5   \n",
       "102  1971  27.0  35.1  40.1  50.8  61.4  74.2  77.8  75.9  71.6  62.7  45.1   \n",
       "\n",
       "      DEC  ANNUAL  \n",
       "98   38.2    53.0  \n",
       "99   34.3    54.1  \n",
       "100  33.4    54.8  \n",
       "101  34.4    54.3  \n",
       "102  40.8    55.2  "
      ]
     },
     "execution_count": 21,
     "metadata": {},
     "output_type": "execute_result"
    }
   ],
   "source": [
    "second_temp_period = mean_temp[mean_temp['YEAR'] >= 1967]\n",
    "second_temp_period.head()"
   ]
  },
  {
   "cell_type": "markdown",
   "metadata": {},
   "source": [
    "### Since now there are two data sets, let's draw a comparison between them\n",
    "\n",
    "Let's compare the central tendency and visualize both data sets using histograms, swarm plots, boxplots\n",
    "\n",
    "#### For Ease:\n",
    "\n",
    "For Dataset I = First Period = 1869 - 1919\n",
    "\n",
    "For Dataset II = Second Period = 1967 - 2017"
   ]
  },
  {
   "cell_type": "markdown",
   "metadata": {},
   "source": [
    "#### Some key notes: \n",
    "\n",
    "- Blue -> First time period (1869 - 1919)\n",
    "- Orange  -> Second time period (1967 - 2018)"
   ]
  },
  {
   "cell_type": "code",
   "execution_count": 23,
   "metadata": {
    "scrolled": false
   },
   "outputs": [
    {
     "data": {
      "text/plain": [
       "Text(0.5, 0.92, 'Temperature in NYC during month of JULY since 1869 -1919 and 1967-2017')"
      ]
     },
     "execution_count": 23,
     "metadata": {},
     "output_type": "execute_result"
    },
    {
     "data": {
      "image/png": "[encoded data removed]",
      "text/plain": [
       "<Figure size 864x720 with 1 Axes>"
      ]
     },
     "metadata": {
      "needs_background": "light"
     },
     "output_type": "display_data"
    }
   ],
   "source": [
    "fig2 = plt.figure(figsize=(12,10))\n",
    "plt.hist([first_temp_period['JUL'], second_temp_period['JUL']])\n",
    "plt.xlabel(\"average JULY temperatures\")\n",
    "plt.ylabel(\"# of months\")\n",
    "fig2.suptitle(\"Temperature in NYC during month of JULY since 1869 -1919 and 1967-2017\", fontsize=15, y=0.92)"
   ]
  },
  {
   "cell_type": "code",
   "execution_count": 25,
   "metadata": {},
   "outputs": [
    {
     "data": {
      "text/plain": [
       "Text(0.5, 0.92, 'Difference of Temperatures in First Period vs Second Period')"
      ]
     },
     "execution_count": 25,
     "metadata": {},
     "output_type": "execute_result"
    },
    {
     "data": {
      "image/png": "[encoded data removed]",
      "text/plain": [
       "<Figure size 720x720 with 1 Axes>"
      ]
     },
     "metadata": {
      "needs_background": "light"
     },
     "output_type": "display_data"
    }
   ],
   "source": [
    "fig3 = plt.figure(figsize=(10,10))\n",
    "plt.boxplot([first_temp_period['JUL'],second_temp_period['JUL']])\n",
    "            \n",
    "plt.xticks([1,2], [\"1869-1919 (First)Period\", \"1967-2017 (Second)Period\"])\n",
    "plt.ylabel(\"Temperature\")\n",
    "fig3.suptitle(\"Difference of Temperatures in First Period vs Second Period\", fontsize=15, y=0.92)"
   ]
  },
  {
   "cell_type": "markdown",
   "metadata": {},
   "source": [
    "#### Mean"
   ]
  },
  {
   "cell_type": "code",
   "execution_count": 26,
   "metadata": {
    "scrolled": true
   },
   "outputs": [
    {
     "name": "stdout",
     "output_type": "stream",
     "text": [
      "Mean for the first period (1869-1919) = 75.23725490196077\n",
      "Mean for the second period (1967-2017) = 77.07058823529414\n"
     ]
    }
   ],
   "source": [
    "print(\"Mean for the first period (1869-1919) =\" ,first_temp_period['JUL'].mean())\n",
    "print(\"Mean for the second period (1967-2017) =\" ,second_temp_period['JUL'].mean())"
   ]
  },
  {
   "cell_type": "markdown",
   "metadata": {},
   "source": [
    "#### Maximum"
   ]
  },
  {
   "cell_type": "code",
   "execution_count": 27,
   "metadata": {
    "scrolled": true
   },
   "outputs": [
    {
     "name": "stdout",
     "output_type": "stream",
     "text": [
      "Max for the first period (1869-1919) = 79.8\n",
      "Max for the second period (1967-2017) = 81.4\n"
     ]
    }
   ],
   "source": [
    "print(\"Max for the first period (1869-1919) =\" ,first_temp_period['JUL'].max())\n",
    "print(\"Max for the second period (1967-2017) =\" ,second_temp_period['JUL'].max())"
   ]
  },
  {
   "cell_type": "markdown",
   "metadata": {},
   "source": [
    "#### Range"
   ]
  },
  {
   "cell_type": "code",
   "execution_count": 29,
   "metadata": {},
   "outputs": [
    {
     "name": "stdout",
     "output_type": "stream",
     "text": [
      "Range for the first period (1869-1919) = 9.099999999999994\n",
      "Range for the second period (1967-2017) = 9.100000000000009\n"
     ]
    }
   ],
   "source": [
    "print(\"Range for the first period (1869-1919) =\" ,first_temp_period['JUL'].max() - first_temp_period['JUL'].min())\n",
    "print(\"Range for the second period (1967-2017) =\" ,second_temp_period['JUL'].max() - second_temp_period['JUL'].min())"
   ]
  },
  {
   "cell_type": "markdown",
   "metadata": {},
   "source": [
    "#### Interquartile Range"
   ]
  },
  {
   "cell_type": "code",
   "execution_count": 37,
   "metadata": {},
   "outputs": [
    {
     "name": "stdout",
     "output_type": "stream",
     "text": [
      "Interquartile for first period  = 2.8999999999999773\n",
      "Interquartile for Second period = 3.25\n"
     ]
    }
   ],
   "source": [
    "first_interquartile = first_temp_period['JUL'].quantile(q=0.75) - first_temp_period['JUL'].quantile(q=0.25)\n",
    "second_interquartile = second_temp_period['JUL'].quantile(q=0.75) - second_temp_period['JUL'].quantile(q=0.25)\n",
    "print(\"Interquartile for first period  =\", first_interquartile)\n",
    "print(\"Interquartile for Second period =\", second_interquartile)"
   ]
  },
  {
   "cell_type": "code",
   "execution_count": 44,
   "metadata": {},
   "outputs": [
    {
     "name": "stdout",
     "output_type": "stream",
     "text": [
      "Variance for first period 4.1447843137254905\n",
      "Variance for second period 4.806117647058824\n"
     ]
    }
   ],
   "source": [
    "first_var = first_temp_period['JUL'].var()\n",
    "second_var = second_temp_period['JUL'].var()\n",
    "print(\"Variance for first period\", first_var)\n",
    "print(\"Variance for second period\", second_var)"
   ]
  },
  {
   "cell_type": "markdown",
   "metadata": {},
   "source": [
    "### Obervations:\n",
    "\n",
    "From the boxplot and histogram above:\n",
    "- The average temperatures in second period(1968-2018) are higher than the first(1869-1919)\n",
    "- \n",
    "\n",
    "\n",
    "----------------------------------------------------------------------------------------------------------------------\n",
    "----------------------------------------------------------------------------------------------------------------------\n",
    "\n",
    "## Our next data set is for the snowfall during months of January"
   ]
  },
  {
   "cell_type": "markdown",
   "metadata": {},
   "source": [
    "Dataset __#2__: __Monthly and Annual Snow__ in the New York City\n",
    "\n",
    "- This the dataset for snowfall recorded in New York City from year 1869 - 2018"
   ]
  },
  {
   "cell_type": "markdown",
   "metadata": {},
   "source": [
    "### Purpose of this dataset\n",
    "\n",
    "It is often claimed that extreme weather is linked to global warming. As we have already seen a rise in average mean temperatures, we are interested to know the correspondence of extreme weather (more snowfall, which years, their count etc)"
   ]
  },
  {
   "cell_type": "code",
   "execution_count": null,
   "metadata": {},
   "outputs": [],
   "source": [
    "snow_fall = pd.read_csv('/home/ahsan/Spring2019/csc217/Project/Snowfall_data/Snow_Full.csv',header=0)\n",
    "snow_fall.head()"
   ]
  },
  {
   "cell_type": "code",
   "execution_count": null,
   "metadata": {},
   "outputs": [],
   "source": [
    "plt.hist(snow_fall['JAN'])"
   ]
  },
  {
   "cell_type": "markdown",
   "metadata": {},
   "source": [
    "### Observation:\n",
    "The histogram is skewed left. Most of the January months have received around 5-10 inches of snow.\n"
   ]
  },
  {
   "cell_type": "markdown",
   "metadata": {},
   "source": [
    "### MEDIAN SNOW"
   ]
  },
  {
   "cell_type": "code",
   "execution_count": null,
   "metadata": {
    "scrolled": false
   },
   "outputs": [],
   "source": [
    "mean_snow_jan = snow_fall['JAN'].median()\n",
    "print(\"The mean snow for the month of january is =\", mean_snow_jan, \"inch\")"
   ]
  },
  {
   "cell_type": "markdown",
   "metadata": {},
   "source": [
    "### A better comparison\n",
    "\n",
    "Now I will divide my data set into two equal periods of 50 years each\n",
    "\n",
    "- First Period == 1869 - 1919\n",
    "- Second Period == 1968 - 2018\n",
    "\n",
    "This will help us compare the two time periods and draw valid conclusions"
   ]
  },
  {
   "cell_type": "code",
   "execution_count": null,
   "metadata": {
    "scrolled": false
   },
   "outputs": [],
   "source": [
    "first_snow_period = snow_fall[snow_fall['YEAR(JAN)'] <= 1919]\n",
    "first_snow_period.head()"
   ]
  },
  {
   "cell_type": "code",
   "execution_count": null,
   "metadata": {},
   "outputs": [],
   "source": [
    "mean_first_snow_jan = first_snow_period['JAN'].median()\n",
    "print(\"The median snow for the FIRST PERIOD in month of january is =\", mean_first_snow_jan, \"inch\")"
   ]
  },
  {
   "cell_type": "code",
   "execution_count": null,
   "metadata": {},
   "outputs": [],
   "source": [
    "total_first_snow_jan = first_snow_period['JAN'].sum()\n",
    "print(\"The TOTAL snow for the FIRST PERIOD in month of january is =\", total_first_snow_jan, \"inch\")"
   ]
  },
  {
   "cell_type": "code",
   "execution_count": null,
   "metadata": {
    "scrolled": false
   },
   "outputs": [],
   "source": [
    "second_snow_period = snow_fall[snow_fall['YEAR(JAN)'] >= 1960]\n",
    "second_snow_period.head()"
   ]
  },
  {
   "cell_type": "code",
   "execution_count": null,
   "metadata": {
    "scrolled": true
   },
   "outputs": [],
   "source": [
    "median_second_snow_jan = second_snow_period['JAN'].median()\n",
    "print(\"The median snow for the SECOND PERIOD in month of january is =\", median_second_snow_jan, \"inch\")"
   ]
  },
  {
   "cell_type": "code",
   "execution_count": null,
   "metadata": {},
   "outputs": [],
   "source": [
    "total_second_snow_jan = second_snow_period['JAN'].sum()\n",
    "print(\"The TOTAL snow for the SECOND PERIOD in month of january is =\", total_second_snow_jan, \"inch\")"
   ]
  },
  {
   "cell_type": "markdown",
   "metadata": {},
   "source": [
    "### Since now there are two data sets, let's draw a comparison between them\n",
    "\n",
    "Let's compare the central tendency and visualize both data sets using histograms, swarm plots, boxplots\n",
    "\n",
    "#### For Dataset I\n",
    "Period 1869 - 1919\n",
    "\n",
    "#### For Dataset II\n",
    "Period 1968 - 2018"
   ]
  },
  {
   "cell_type": "code",
   "execution_count": null,
   "metadata": {},
   "outputs": [],
   "source": [
    "plt.figure(figsize=(11,6))\n",
    "plt.hist([first_snow_period['JAN'], second_snow_period['JAN']])"
   ]
  },
  {
   "cell_type": "markdown",
   "metadata": {},
   "source": [
    "### Some key notes: \n",
    "\n",
    "- Blue    == First time period (1869 - 1919)\n",
    "- Orange  == Second time period (1968 - 2018)\n",
    "\n",
    "### Obervations:\n",
    "\n",
    "- There is not much difference we can conclude at this moment\n",
    "- It is evident that the average temperatures in second period (1968 - 2018) also include months of January where the snowfall has crossed 30inch, whereas the first period(1869 - 1919) has highest around 20inch\n",
    "\n",
    "For exact numbers:\n",
    "Find mean, median, mode and range using the functions\n",
    "\n",
    "### Comparison of Mode for extreme weather"
   ]
  },
  {
   "cell_type": "code",
   "execution_count": null,
   "metadata": {},
   "outputs": [],
   "source": [
    "print(\"Mode for the first period (1869-1919) =\" ,first_snow_period['JAN'].max())\n",
    "print(\"Mode for the second period (1968-2018) =\" ,second_snow_period['JAN'].max())"
   ]
  },
  {
   "cell_type": "markdown",
   "metadata": {},
   "source": [
    "Further more, we would like to see how many days in our first data set and second data set had snow more than 15 inches"
   ]
  },
  {
   "cell_type": "markdown",
   "metadata": {},
   "source": [
    "### No. of January months when it snowed more than median(from year 1869 - 2018) i.e 6.4 inches"
   ]
  },
  {
   "cell_type": "code",
   "execution_count": null,
   "metadata": {},
   "outputs": [],
   "source": [
    "new_first = first_snow_period[first_snow_period['JAN'] > 6.4]\n",
    "new_first['JAN'].count()"
   ]
  },
  {
   "cell_type": "code",
   "execution_count": null,
   "metadata": {},
   "outputs": [],
   "source": [
    "new_second = second_snow_period[second_snow_period['JAN'] > 6.4]\n",
    "new_second['JAN'].count()"
   ]
  },
  {
   "cell_type": "markdown",
   "metadata": {},
   "source": [
    "#### Conclude:\n",
    "Second period has more days where it snowed more than 6.4 inches\n",
    "#### Here is a visualization to see the difference."
   ]
  },
  {
   "cell_type": "code",
   "execution_count": null,
   "metadata": {
    "scrolled": false
   },
   "outputs": [],
   "source": [
    "plt.plot(first_snow_period['JAN'])\n",
    "plt.plot(second_snow_period['JAN'])\n",
    "plt.legend()"
   ]
  },
  {
   "cell_type": "markdown",
   "metadata": {},
   "source": [
    "### Final Analysis:\n",
    "We can clearly conclude that there is more extreme weather in the last second period(i.e last 50 years) as compared to the first time period. Therefore, rising temperatures could be a reason why we face extreme snowy days like never before.\n",
    "\n",
    "----------------------------------------------------------------------------------------------------------------------\n",
    "----------------------------------------------------------------------------------------------------------------------\n",
    "\n",
    "### Our next data set is for the Carbondioxide levels from the year 0 AD - 2018"
   ]
  },
  {
   "cell_type": "markdown",
   "metadata": {},
   "source": [
    "Dataset __#3__: __C02 levels in the atmosphere__\n",
    "\n",
    "- This the dataset for Carbondioxide levels since the year 0 A.D to present"
   ]
  },
  {
   "cell_type": "code",
   "execution_count": null,
   "metadata": {},
   "outputs": [],
   "source": [
    "total_c02_data = pd.read_csv('/home/ahsan/Spring2019/csc217/Project/C02_data/mole_fraction_c02_since_year_0.csv',header=0)"
   ]
  },
  {
   "cell_type": "markdown",
   "metadata": {},
   "source": [
    "### However\n",
    "#### We are only interested in data from 1800 - 2014 for this dataset\n",
    "\n",
    "### Dataset contains 3 columns\n",
    " - Global \n",
    " - Northern Hemisphere\n",
    " - Southern Hemisphere\n",
    " \n",
    " We will focus on __Northern__"
   ]
  },
  {
   "cell_type": "code",
   "execution_count": null,
   "metadata": {
    "scrolled": false
   },
   "outputs": [],
   "source": [
    "c02_data = total_c02_data[total_c02_data['year'] >= 1800]\n",
    "c02_data"
   ]
  },
  {
   "cell_type": "markdown",
   "metadata": {},
   "source": [
    "### Before anything let's have a general look of how the C02 levels have changed over the past 2000+ years"
   ]
  },
  {
   "cell_type": "code",
   "execution_count": null,
   "metadata": {},
   "outputs": [],
   "source": [
    "plt.plot(total_c02_data['data_mean_global'])\n",
    "plt.plot(total_c02_data['data_mean_nh'])\n",
    "plt.plot(total_c02_data['data_mean_sh'])\n",
    "plt.legend()"
   ]
  },
  {
   "cell_type": "markdown",
   "metadata": {},
   "source": [
    "### For the years after 1800"
   ]
  },
  {
   "cell_type": "code",
   "execution_count": null,
   "metadata": {},
   "outputs": [],
   "source": [
    "plt.plot(c02_data['data_mean_global'])\n",
    "plt.plot(c02_data['data_mean_nh'])\n",
    "plt.plot(c02_data['data_mean_sh'])\n",
    "plt.legend()"
   ]
  },
  {
   "cell_type": "markdown",
   "metadata": {},
   "source": [
    "#### Observation:\n",
    "A steep curve is seen after the years 1800"
   ]
  },
  {
   "cell_type": "code",
   "execution_count": null,
   "metadata": {},
   "outputs": [],
   "source": []
  }
 ],
 "metadata": {
  "kernelspec": {
   "display_name": "Python 3",
   "language": "python",
   "name": "python3"
  },
  "language_info": {
   "codemirror_mode": {
    "name": "ipython",
    "version": 3
   },
   "file_extension": ".py",
   "mimetype": "text/x-python",
   "name": "python",
   "nbconvert_exporter": "python",
   "pygments_lexer": "ipython3",
   "version": "3.7.1"
  }
 },
 "nbformat": 4,
 "nbformat_minor": 2
}
